{
 "cells": [
  {
   "cell_type": "markdown",
   "metadata": {},
   "source": [
    "## Q3. (40%) You are hired by an officer from the WFP (World Food Programme, the food-assistance branch of the United Nations) to assess the drought condition for Guatemala (GT) in Central America. The result of your assessment is very important because it would impact the amount of funding that WFP will allocate to help GT in the following few years. \n",
    "\n",
    "## After some literature review, you decide to use Standard Precipitation Index (SPI) for the assessment. The SPI is a widely-used index to quantify the precipitation deficit for multiple timescales (WMO, 2012). These timescales reflect the impact of drought on the availability of the different water resources. For example, Soil moisture conditions respond to precipitation anomalies on a relatively short scale (approximately 1 month). Groundwater, streamflow and reservoir storage reflect the longer-term precipitation anomalies (usually 3+ months). The underlying idea of SPIs is to quantify observed rainfall as a standardized departure from a selected probability distribution function that models the raw precipitation data. \n",
    "\n",
    "## The key to obtain reliable SPIs is to look for a suitable probability distribution for the underlying data. So the task here is to implement a tool that can automatically compare several candidate distributions and identify the best one.\n"
   ]
  },
  {
   "cell_type": "markdown",
   "metadata": {},
   "source": [
    "### 3.0. Import essential modules"
   ]
  },
  {
   "cell_type": "code",
   "execution_count": 1,
   "metadata": {},
   "outputs": [],
   "source": [
    "import pandas as pd\n",
    "import scipy.stats as stats"
   ]
  },
  {
   "cell_type": "markdown",
   "metadata": {},
   "source": [
    "### 3.1. (5%) Import daily rainfall estimates for all locations of interest for the period of 1979 - 2020 from the attached CSV file _Rain_1d_GT_19790101-20201231.csv_ in the _Data_ folder. \n",
    "\n",
    "### Then, for each location, compute rainfall estimates for each _calendar_ month, and export the monthly rainfall to a CSV file named _Rain_1M_GT_19790101-20201231.csv_ where the first row is the header, and, for the following rows, each row includes rainfall estimates for a given month for all locations of interest. The format example is as follows (to 6 decimal places:\n",
    "\n",
    "date,101,102,...</br>\n",
    "1979/01,...,...</br>\n",
    "1979/02,...,...</br>\n",
    "...</br>\n",
    "2020/12,...,...</br>"
   ]
  },
  {
   "cell_type": "code",
   "execution_count": 2,
   "metadata": {},
   "outputs": [
    {
     "name": "stdout",
     "output_type": "stream",
     "text": [
      "                101         102         103         104         105  \\\n",
      "date                                                                  \n",
      "1979/01   15.494035   15.493550   15.120030   10.435103   13.189232   \n",
      "1979/02   11.766926   11.067176    9.117432    5.738555    6.316651   \n",
      "1979/03   33.534119   34.157334   35.751452   26.855232   29.478315   \n",
      "1979/04  132.877773  132.778320  128.822646   85.630129  104.837186   \n",
      "1979/05  194.495276  196.372944  195.560265  125.236401  158.046756   \n",
      "...             ...         ...         ...         ...         ...   \n",
      "2020/08  275.217043  282.595973  293.782628  196.650245  242.579940   \n",
      "2020/09  310.613133  314.637188  320.384219  216.343887  272.089154   \n",
      "2020/10  308.596825  314.534447  319.364867  204.664207  247.284762   \n",
      "2020/11  189.191323  190.041139  185.188005  158.910350  156.776663   \n",
      "2020/12   12.451701   12.821830   13.341694    6.870188    8.803994   \n",
      "\n",
      "                106         107         108         109         110  ...  \\\n",
      "date                                                                 ...   \n",
      "1979/01   12.959220    9.889088   14.990532   13.792244   12.632298  ...   \n",
      "1979/02    9.031569    6.745200   12.970513   13.153929   12.442011  ...   \n",
      "1979/03   32.453895   30.951832   35.531038   40.066845   41.826070  ...   \n",
      "1979/04  108.631635   87.368846  130.846819  124.678124  119.093702  ...   \n",
      "1979/05  157.120043  126.320733  191.495752  184.656642  177.011072  ...   \n",
      "...             ...         ...         ...         ...         ...  ...   \n",
      "2020/08  220.322324  187.317396  265.057210  249.751763  237.997148  ...   \n",
      "2020/09  259.462439  210.340435  306.729779  297.573020  284.434814  ...   \n",
      "2020/10  235.433347  199.053969  299.015869  279.771612  265.847941  ...   \n",
      "2020/11  159.278600  161.430692  186.629530  174.549177  170.494425  ...   \n",
      "2020/12    8.518756    7.054780   13.022467   13.055107   12.267684  ...   \n",
      "\n",
      "               2208        2209        2210        2211        2212  \\\n",
      "date                                                                  \n",
      "1979/01    2.539611    2.346803    2.436485    2.394479    2.374908   \n",
      "1979/02    4.087904    3.628043    3.689146    3.428482    3.432252   \n",
      "1979/03   15.747286   13.219826   13.403300   12.309276   12.751050   \n",
      "1979/04  111.239415  102.718243  104.171060   95.667077   91.982640   \n",
      "1979/05  197.960085  180.445143  185.766888  173.594643  160.708170   \n",
      "...             ...         ...         ...         ...         ...   \n",
      "2020/08  318.340227  296.552144  311.231903  320.885273  297.887648   \n",
      "2020/09  343.626875  325.224076  331.779954  310.669206  292.395430   \n",
      "2020/10  318.567599  315.128392  322.933825  342.127733  340.620077   \n",
      "2020/11  148.869045  138.413876  141.921505  146.643048  149.090509   \n",
      "2020/12    5.913656    5.820103    5.752907    5.508326    5.748369   \n",
      "\n",
      "               2213        2214        2215        2216        2217  \n",
      "date                                                                 \n",
      "1979/01    1.846461    1.721839    1.781042    4.297748    3.120805  \n",
      "1979/02    2.733417    2.551862    2.080368    4.664477    4.179430  \n",
      "1979/03   12.112617   12.506642   13.229405   16.883304   13.720051  \n",
      "1979/04   83.428963   79.862476   75.322265   96.821351   96.294771  \n",
      "1979/05  151.448351  143.455789  132.353233  151.428428  151.701094  \n",
      "...             ...         ...         ...         ...         ...  \n",
      "2020/08  293.164537  275.728493  254.251764  279.684916  275.038710  \n",
      "2020/09  254.171645  232.612395  185.831585  299.647636  307.355485  \n",
      "2020/10  324.880386  313.153716  281.711258  342.574264  336.654215  \n",
      "2020/11  151.453530  152.184043  150.130226  156.465174  143.028746  \n",
      "2020/12    5.000752    5.061921    5.466174    8.137610    6.758457  \n",
      "\n",
      "[504 rows x 340 columns]\n"
     ]
    }
   ],
   "source": [
    "path='Data/Rain_1d_GT_19790101-20201231.csv'\n",
    "df = pd.read_csv(path)\n",
    "df['date'] = pd.to_datetime(df['date'])\n",
    "df.set_index('date', inplace=True)\n",
    "month_rainfall = df.resample('M').sum()\n",
    "month_rainfall.index = month_rainfall.index.to_period(\"M\")\n",
    "month_rainfall = month_rainfall.round(6)\n",
    "month_rainfall_output = month_rainfall.copy()\n",
    "month_rainfall_output.index = month_rainfall.index.strftime('%Y/%m')\n",
    "month_rainfall_output.to_csv('Rain_1M_GT_19790101-20201231.csv')\n",
    "print(month_rainfall_output)"
   ]
  },
  {
   "cell_type": "markdown",
   "metadata": {},
   "source": [
    "### 3.2. (35%) Use Gamma, Weibull and Normal as candidate distribuitions, and identify which distribution is the best one to fit the monthly rainfall for each calendar month and at each location by comparing the test statistics obtained from the KS test. Please output the counts for each candidate distribution that leads to the best fit for each calendar month in a CSV file, named _Rain_1M_GT_19790101-20201231_bPD-counts.csv_. The format example is as follows:\n",
    "\n",
    "Month,gamma,exponweib,norm</br>\n",
    "1,55,...,...</br>\n",
    "2,...,...,...</br>\n",
    "...</br>\n",
    "12,...,...,...</br>\n",
    "\n",
    "### Note: you shall use scipy.stats. exponweib for Weibull distribution, and the location parameter shall be fixed to ‘0’"
   ]
  },
  {
   "cell_type": "code",
   "execution_count": 3,
   "metadata": {},
   "outputs": [
    {
     "name": "stdout",
     "output_type": "stream",
     "text": [
      "    Month  gamma  exponweib  norm\n",
      "0       1     55        282     3\n",
      "1       2     58        266    16\n",
      "2       3     98        225    17\n",
      "3       4     74        264     2\n",
      "4       5     79        215    46\n",
      "5       6     85        124   131\n",
      "6       7     61        236    43\n",
      "7       8     82        240    18\n",
      "8       9     49        273    18\n",
      "9      10    115        196    29\n",
      "10     11      9        331     0\n",
      "11     12     70        240    30\n"
     ]
    }
   ],
   "source": [
    "num_station = len(month_rainfall.iloc[0,:])\n",
    "matrix = [[0] * 340 for i in range(12)]\n",
    "\n",
    "for m in range(1,13):\n",
    "    for i in range(num_station):\n",
    "        samples = month_rainfall.iloc[:,i][month_rainfall.index.month == m]\n",
    "        gamma_param = stats.gamma.fit(samples, floc=0)\n",
    "        exponweib_param = stats.exponweib.fit(samples, floc=0)\n",
    "        norm_param = stats.norm.fit(samples)\n",
    "\n",
    "        gamma_Dn_stats, gamma_p_value_stats = stats.kstest(samples, stats.gamma.cdf, gamma_param, mode='asymp')\n",
    "        exponweib_Dn_stats, exponweib_p_value_stats = stats.kstest(samples, stats.exponweib.cdf, exponweib_param, mode='asymp')\n",
    "        norm_Dn_stats, norm_p_value_stats = stats.kstest(samples, stats.norm.cdf, norm_param, mode='asymp')\n",
    "\n",
    "        if (gamma_p_value_stats > exponweib_p_value_stats) and (gamma_p_value_stats > norm_p_value_stats):\n",
    "            matrix[m-1][i] = 'gamma'\n",
    "        elif (exponweib_p_value_stats > gamma_p_value_stats) and (exponweib_p_value_stats > norm_p_value_stats):\n",
    "            matrix[m-1][i] = 'exponweib'\n",
    "        elif (norm_p_value_stats > gamma_p_value_stats) and (norm_p_value_stats > exponweib_p_value_stats):\n",
    "            matrix[m-1][i] = 'norm'\n",
    "\n",
    "month_list = list(range(1, 13))\n",
    "gamma_list = []\n",
    "exponweib_list = []\n",
    "norm_list = []\n",
    "\n",
    "for i in range(0,12):\n",
    "    gamma_list.append(sum(1 for row in matrix[i] if row == 'gamma'))\n",
    "    exponweib_list.append(sum(1 for row in matrix[i] if row == 'exponweib'))\n",
    "    norm_list.append(sum(1 for row in matrix[i] if row == 'norm'))\n",
    "\n",
    "data = {\n",
    "    'Month': month_list,\n",
    "    'gamma': gamma_list,\n",
    "    'exponweib': exponweib_list,\n",
    "    'norm': norm_list\n",
    "}\n",
    "count_output = pd.DataFrame(data)\n",
    "count_output.to_csv('Rain_1M_GT_19790101-20201231_bPD-counts.csv', index=False)\n",
    "print(count_output)"
   ]
  }
 ],
 "metadata": {
  "kernelspec": {
   "display_name": "Python 3 (ipykernel)",
   "language": "python",
   "name": "python3"
  },
  "language_info": {
   "codemirror_mode": {
    "name": "ipython",
    "version": 3
   },
   "file_extension": ".py",
   "mimetype": "text/x-python",
   "name": "python",
   "nbconvert_exporter": "python",
   "pygments_lexer": "ipython3",
   "version": "3.11.4"
  }
 },
 "nbformat": 4,
 "nbformat_minor": 4
}
